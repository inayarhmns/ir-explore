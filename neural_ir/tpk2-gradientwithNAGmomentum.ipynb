{
 "cells": [
  {
   "cell_type": "markdown",
   "metadata": {
    "id": "nR3qS-ZeYjFo"
   },
   "source": [
    "# Tugas Pemrograman Kecil 2"
   ]
  },
  {
   "cell_type": "markdown",
   "metadata": {
    "id": "TWg-pMzLYmuu"
   },
   "source": [
    "Author: Jaycent Gunawan Ongris (jaycent.gunawan@ui.ac.id)"
   ]
  },
  {
   "cell_type": "markdown",
   "metadata": {
    "id": "Kh8vjPCMm1ZJ"
   },
   "source": [
    "Pada tugas ini, Anda akan belajar bagaimana membangun model *neural network from scratch* dengan menggunakan *library* PyTorch. Anda akan bekerja langsung dengan perkalian matriks pada proses *fitting* dan *predicting* menggunakan neural network, tanpa menggunakan abstraksi *layer* pada PyTorch sama sekali."
   ]
  },
  {
   "cell_type": "markdown",
   "metadata": {
    "id": "4N_OX78_Ys3h"
   },
   "source": [
    "## Tutorial"
   ]
  },
  {
   "cell_type": "markdown",
   "metadata": {
    "id": "IrqBKSlGYu-H"
   },
   "source": [
    "Pada tutorial ini, Anda akan diberikan sebuah contoh membuat model regresi linear sederhana (*single-layer neural network*) dengan menggunakan PyTorch."
   ]
  },
  {
   "cell_type": "markdown",
   "metadata": {
    "id": "xm5z6Ox5Y_hf"
   },
   "source": [
    "Fungsi yang akan digunakan sebagai patokan dalam membuat model adalah berikut ini. Koefisien-koefisien dari fungsi berikut akan diprediksi oleh model."
   ]
  },
  {
   "cell_type": "markdown",
   "metadata": {
    "id": "G-nu6eut4ulx"
   },
   "source": [
    "$$f(a,b,c)=0.5a+0.3b-0.8c+0.5$$"
   ]
  },
  {
   "cell_type": "code",
   "execution_count": null,
   "metadata": {
    "colab": {
     "base_uri": "https://localhost:8080/"
    },
    "execution": {
     "iopub.execute_input": "2024-10-11T04:54:54.106127Z",
     "iopub.status.busy": "2024-10-11T04:54:54.105667Z",
     "iopub.status.idle": "2024-10-11T04:54:54.116535Z",
     "shell.execute_reply": "2024-10-11T04:54:54.115281Z",
     "shell.execute_reply.started": "2024-10-11T04:54:54.106086Z"
    },
    "executionInfo": {
     "elapsed": 360,
     "status": "ok",
     "timestamp": 1723735940976,
     "user": {
      "displayName": "Jaycent Gunawan Ongris",
      "userId": "07740026440731769645"
     },
     "user_tz": -420
    },
    "id": "6HdBAz8f6ohZ",
    "outputId": "c9e71dfd-e7a4-4539-8d67-a73fb1cb2ab8",
    "trusted": true
   },
   "outputs": [
    {
     "ename": "",
     "evalue": "",
     "output_type": "error",
     "traceback": [
      "\u001b[1;31mRunning cells with 'env (Python -1.-1.-1)' requires the ipykernel package.\n",
      "\u001b[1;31mRun the following command to install 'ipykernel' into the Python environment. \n",
      "\u001b[1;31mCommand: 'c:/Users/inaya/Documents/LOCAL_TERM7/LOCAL_IR/tpk-ir/env/Scripts/python.exe -m pip install ipykernel -U --force-reinstall'"
     ]
    }
   ],
   "source": [
    "import torch\n",
    "\n",
    "import random\n",
    "\n",
    "\n",
    "\n",
    "# WARNING: DO NOT CHANGE; FOR REPRODUCIBILITY\n",
    "\n",
    "torch.manual_seed(0)"
   ]
  },
  {
   "cell_type": "code",
   "execution_count": 119,
   "metadata": {
    "execution": {
     "iopub.execute_input": "2024-10-11T04:54:54.120539Z",
     "iopub.status.busy": "2024-10-11T04:54:54.119459Z",
     "iopub.status.idle": "2024-10-11T04:54:54.126672Z",
     "shell.execute_reply": "2024-10-11T04:54:54.125279Z",
     "shell.execute_reply.started": "2024-10-11T04:54:54.120479Z"
    },
    "id": "e87eVQLR4taS",
    "trusted": true
   },
   "outputs": [],
   "source": [
    "def f(a, b, c):\n",
    "\n",
    "  return 0.5*a + 0.3*b - 0.8*c + 0.5"
   ]
  },
  {
   "cell_type": "code",
   "execution_count": 120,
   "metadata": {
    "colab": {
     "base_uri": "https://localhost:8080/"
    },
    "execution": {
     "iopub.execute_input": "2024-10-11T04:54:54.128866Z",
     "iopub.status.busy": "2024-10-11T04:54:54.128435Z",
     "iopub.status.idle": "2024-10-11T04:54:54.151422Z",
     "shell.execute_reply": "2024-10-11T04:54:54.150040Z",
     "shell.execute_reply.started": "2024-10-11T04:54:54.128822Z"
    },
    "executionInfo": {
     "elapsed": 12,
     "status": "ok",
     "timestamp": 1723735941386,
     "user": {
      "displayName": "Jaycent Gunawan Ongris",
      "userId": "07740026440731769645"
     },
     "user_tz": -420
    },
    "id": "xAQEj4we5UWY",
    "outputId": "120ce64f-2c76-4544-cd91-8da1f194f1ee",
    "trusted": true
   },
   "outputs": [
    {
     "data": {
      "text/plain": [
       "tensor([[0.4963, 0.7682, 0.0885],\n",
       "        [0.1320, 0.3074, 0.6341],\n",
       "        [0.4901, 0.8964, 0.4556],\n",
       "        [0.6323, 0.3489, 0.4017],\n",
       "        [0.0223, 0.1689, 0.2939],\n",
       "        [0.5185, 0.6977, 0.8000],\n",
       "        [0.1610, 0.2823, 0.6816],\n",
       "        [0.9152, 0.3971, 0.8742],\n",
       "        [0.4194, 0.5529, 0.9527],\n",
       "        [0.0362, 0.1852, 0.3734]])"
      ]
     },
     "execution_count": 120,
     "metadata": {},
     "output_type": "execute_result"
    }
   ],
   "source": [
    "# generate train dataset\n",
    "\n",
    "X_train = torch.rand(100, 3)\n",
    "\n",
    "X_train[:10]"
   ]
  },
  {
   "cell_type": "code",
   "execution_count": 121,
   "metadata": {
    "colab": {
     "base_uri": "https://localhost:8080/"
    },
    "execution": {
     "iopub.execute_input": "2024-10-11T04:54:54.158568Z",
     "iopub.status.busy": "2024-10-11T04:54:54.158077Z",
     "iopub.status.idle": "2024-10-11T04:54:54.180602Z",
     "shell.execute_reply": "2024-10-11T04:54:54.179275Z",
     "shell.execute_reply.started": "2024-10-11T04:54:54.158523Z"
    },
    "executionInfo": {
     "elapsed": 12,
     "status": "ok",
     "timestamp": 1723735941386,
     "user": {
      "displayName": "Jaycent Gunawan Ongris",
      "userId": "07740026440731769645"
     },
     "user_tz": -420
    },
    "id": "lQ1T1GK955JY",
    "outputId": "3b521db3-49a5-4d2e-e84c-760296a6f172",
    "trusted": true
   },
   "outputs": [
    {
     "data": {
      "text/plain": [
       "tensor([ 0.9078,  0.1510,  0.6495,  0.5994,  0.3267,  0.3286,  0.1199,  0.3774,\n",
       "         0.1134,  0.2749,  0.7914,  0.6547,  0.3045,  0.8341,  0.6913,  0.2312,\n",
       "         0.1279,  0.7540,  0.5048,  0.4088,  0.9104,  0.7084,  0.2962,  0.7710,\n",
       "         0.3745,  1.0983,  0.8019,  1.2352,  0.5873,  0.6802,  0.3812,  0.7045,\n",
       "         0.9683,  0.2276,  0.7343,  0.6911,  0.6726,  0.1941,  0.6444,  0.4383,\n",
       "         0.8023,  0.7115,  0.5043,  0.1777,  0.0431,  0.5130,  0.2671,  0.8301,\n",
       "        -0.0681,  0.7303,  0.2206,  1.1040,  0.6231,  0.4483,  0.2087,  0.2844,\n",
       "        -0.0869,  0.3886,  0.4154,  0.8316,  0.2098,  0.5006,  0.7380,  0.4809,\n",
       "         0.6123,  0.1383,  0.3309,  0.8224,  0.6036,  0.7145,  0.4183,  0.3908,\n",
       "        -0.0972, -0.1094,  0.9412,  0.6305,  0.3895,  0.3667,  0.3787,  0.1421,\n",
       "         0.8238,  0.9645,  0.5512,  0.3256,  0.9004,  0.0783,  0.5103,  0.4162,\n",
       "         0.6524,  0.5884,  0.6894,  0.8265,  0.6673,  0.8456,  0.3523,  0.5393,\n",
       "         0.6798,  0.6402,  0.0747,  0.5098])"
      ]
     },
     "execution_count": 121,
     "metadata": {},
     "output_type": "execute_result"
    }
   ],
   "source": [
    "# compute true values\n",
    "\n",
    "y_train = []\n",
    "\n",
    "for inp in X_train:\n",
    "\n",
    "  y = f(inp[0], inp[1], inp[2])\n",
    "\n",
    "  y_train.append(y)\n",
    "\n",
    "y_train = torch.Tensor(y_train)\n",
    "\n",
    "y_train"
   ]
  },
  {
   "cell_type": "code",
   "execution_count": 122,
   "metadata": {
    "execution": {
     "iopub.execute_input": "2024-10-11T04:54:54.183787Z",
     "iopub.status.busy": "2024-10-11T04:54:54.183087Z",
     "iopub.status.idle": "2024-10-11T04:54:54.192280Z",
     "shell.execute_reply": "2024-10-11T04:54:54.190909Z",
     "shell.execute_reply.started": "2024-10-11T04:54:54.183711Z"
    },
    "trusted": true
   },
   "outputs": [
    {
     "data": {
      "text/plain": [
       "torch.Size([100])"
      ]
     },
     "execution_count": 122,
     "metadata": {},
     "output_type": "execute_result"
    }
   ],
   "source": [
    "y_train.shape"
   ]
  },
  {
   "cell_type": "code",
   "execution_count": 123,
   "metadata": {
    "colab": {
     "base_uri": "https://localhost:8080/"
    },
    "execution": {
     "iopub.execute_input": "2024-10-11T04:54:54.194128Z",
     "iopub.status.busy": "2024-10-11T04:54:54.193795Z",
     "iopub.status.idle": "2024-10-11T04:54:54.210365Z",
     "shell.execute_reply": "2024-10-11T04:54:54.208945Z",
     "shell.execute_reply.started": "2024-10-11T04:54:54.194091Z"
    },
    "executionInfo": {
     "elapsed": 9,
     "status": "ok",
     "timestamp": 1723735941386,
     "user": {
      "displayName": "Jaycent Gunawan Ongris",
      "userId": "07740026440731769645"
     },
     "user_tz": -420
    },
    "id": "vReLuSb2GhCQ",
    "outputId": "be960999-9c0d-427e-dceb-fb4d804b9e2e",
    "trusted": true
   },
   "outputs": [
    {
     "data": {
      "text/plain": [
       "tensor([ 0.9078,  0.1510,  0.6495,  0.5994,  0.3267,  0.3286,  0.1199,  0.3774,\n",
       "         0.1134,  0.2749,  0.7914,  0.6547,  0.3045,  0.8341,  0.6913,  0.2312,\n",
       "         0.1279,  0.7540,  0.5048,  0.4088,  0.9104,  0.7084,  0.2962,  0.7710,\n",
       "         0.2403,  1.0983,  0.8019,  0.5982,  0.5873,  0.6802,  0.6152,  0.7045,\n",
       "         0.9683,  0.2276,  0.7343,  0.6911,  0.6726,  0.1941,  0.6444,  0.4383,\n",
       "         0.8023,  0.7115,  0.5043,  0.5898,  0.0431,  0.5130,  0.2671,  0.8301,\n",
       "        -0.0681,  0.7303,  0.2206,  1.1040,  0.6231,  0.4483,  0.2588,  0.2844,\n",
       "        -0.0869,  0.3886,  0.4154,  0.8316,  0.2098,  0.5006,  0.7380,  0.4809,\n",
       "         0.6123,  0.1383,  0.3309,  0.8224,  0.6036,  0.7145,  0.4183,  0.3908,\n",
       "        -0.0972, -0.1094,  0.9412,  0.6305,  0.3895,  0.3667,  0.3787,  0.1421,\n",
       "         0.8238,  0.9645,  0.5512,  0.3256,  0.9004,  0.0783,  0.5103,  0.4162,\n",
       "         0.6524,  0.5884,  0.6894,  0.8265,  0.6673,  0.8456,  0.3523,  0.5393,\n",
       "         0.6798,  0.6402,  0.0747,  0.5098])"
      ]
     },
     "execution_count": 123,
     "metadata": {},
     "output_type": "execute_result"
    }
   ],
   "source": [
    "# negative sampling\n",
    "\n",
    "def replace_random_values(data, ratio_to_replace=0.05):\n",
    "\n",
    "  total = data.shape[0]\n",
    "\n",
    "  num_to_replace = int(total * ratio_to_replace)\n",
    "\n",
    "  val_to_replace = torch.rand(num_to_replace, 1)\n",
    "\n",
    "  replaced_index = []\n",
    "\n",
    "  for val in val_to_replace:\n",
    "\n",
    "    idx = random.randint(0, total-1)\n",
    "\n",
    "    while idx in replaced_index:\n",
    "\n",
    "      idx = random.randint(0, total-1)\n",
    "\n",
    "    replaced_index.append(idx)\n",
    "\n",
    "    data[idx] = val\n",
    "\n",
    "  return data\n",
    "\n",
    "\n",
    "\n",
    "y_train = replace_random_values(y_train)\n",
    "\n",
    "y_train"
   ]
  },
  {
   "cell_type": "code",
   "execution_count": 124,
   "metadata": {
    "colab": {
     "base_uri": "https://localhost:8080/"
    },
    "execution": {
     "iopub.execute_input": "2024-10-11T04:54:54.212473Z",
     "iopub.status.busy": "2024-10-11T04:54:54.212044Z",
     "iopub.status.idle": "2024-10-11T04:54:54.225870Z",
     "shell.execute_reply": "2024-10-11T04:54:54.224079Z",
     "shell.execute_reply.started": "2024-10-11T04:54:54.212430Z"
    },
    "executionInfo": {
     "elapsed": 7,
     "status": "ok",
     "timestamp": 1723735941386,
     "user": {
      "displayName": "Jaycent Gunawan Ongris",
      "userId": "07740026440731769645"
     },
     "user_tz": -420
    },
    "id": "cgmSTzDDIpoa",
    "outputId": "434b1069-cec0-4d82-da65-bbbb5912d1c7",
    "trusted": true
   },
   "outputs": [
    {
     "data": {
      "text/plain": [
       "tensor([[0.4963, 0.7682, 0.0885, 1.0000],\n",
       "        [0.1320, 0.3074, 0.6341, 1.0000],\n",
       "        [0.4901, 0.8964, 0.4556, 1.0000],\n",
       "        [0.6323, 0.3489, 0.4017, 1.0000],\n",
       "        [0.0223, 0.1689, 0.2939, 1.0000],\n",
       "        [0.5185, 0.6977, 0.8000, 1.0000],\n",
       "        [0.1610, 0.2823, 0.6816, 1.0000],\n",
       "        [0.9152, 0.3971, 0.8742, 1.0000],\n",
       "        [0.4194, 0.5529, 0.9527, 1.0000],\n",
       "        [0.0362, 0.1852, 0.3734, 1.0000]])"
      ]
     },
     "execution_count": 124,
     "metadata": {},
     "output_type": "execute_result"
    }
   ],
   "source": [
    "# weight and biases\n",
    "\n",
    "# squeeze into one matrix only\n",
    "\n",
    "# modify input so that it includes last bias coefficient (1)\n",
    "\n",
    "ones = torch.ones(X_train.shape[0], 1)\n",
    "\n",
    "# dim=1 means the tensor is concatenated as a new column\n",
    "\n",
    "X_train = torch.cat((X_train, ones), dim=1)\n",
    "\n",
    "X_train[:10]"
   ]
  },
  {
   "cell_type": "code",
   "execution_count": 125,
   "metadata": {
    "colab": {
     "base_uri": "https://localhost:8080/"
    },
    "execution": {
     "iopub.execute_input": "2024-10-11T04:54:54.230347Z",
     "iopub.status.busy": "2024-10-11T04:54:54.229896Z",
     "iopub.status.idle": "2024-10-11T04:54:54.241456Z",
     "shell.execute_reply": "2024-10-11T04:54:54.240231Z",
     "shell.execute_reply.started": "2024-10-11T04:54:54.230304Z"
    },
    "executionInfo": {
     "elapsed": 5,
     "status": "ok",
     "timestamp": 1723735941386,
     "user": {
      "displayName": "Jaycent Gunawan Ongris",
      "userId": "07740026440731769645"
     },
     "user_tz": -420
    },
    "id": "oC8rKBNAOGOH",
    "outputId": "ba3328f6-d6fc-4b11-c908-d542b335c7ab",
    "trusted": true
   },
   "outputs": [
    {
     "data": {
      "text/plain": [
       "tensor([0.1288, 0.5832, 0.7130, 0.6979], requires_grad=True)"
      ]
     },
     "execution_count": 125,
     "metadata": {},
     "output_type": "execute_result"
    }
   ],
   "source": [
    "# initialize weights\n",
    "\n",
    "# 4 parameters, include bias\n",
    "\n",
    "# we want to update the W using gradient, hence requires_grad=True\n",
    "\n",
    "W = torch.rand(4, requires_grad=True)\n",
    "\n",
    "W"
   ]
  },
  {
   "cell_type": "code",
   "execution_count": 126,
   "metadata": {
    "execution": {
     "iopub.execute_input": "2024-10-11T04:54:54.243856Z",
     "iopub.status.busy": "2024-10-11T04:54:54.243388Z",
     "iopub.status.idle": "2024-10-11T04:54:54.250360Z",
     "shell.execute_reply": "2024-10-11T04:54:54.249077Z",
     "shell.execute_reply.started": "2024-10-11T04:54:54.243814Z"
    },
    "id": "Mu8HEEgmQnuA",
    "trusted": true
   },
   "outputs": [],
   "source": [
    "# using loss function MSE\n",
    "\n",
    "def mse(inp, target):\n",
    "\n",
    "  diff = inp - target\n",
    "\n",
    "  return torch.sum(torch.pow(diff, 2)) / diff.numel()"
   ]
  },
  {
   "cell_type": "code",
   "execution_count": 127,
   "metadata": {
    "colab": {
     "base_uri": "https://localhost:8080/"
    },
    "execution": {
     "iopub.execute_input": "2024-10-11T04:54:54.252378Z",
     "iopub.status.busy": "2024-10-11T04:54:54.251908Z",
     "iopub.status.idle": "2024-10-11T04:54:54.266428Z",
     "shell.execute_reply": "2024-10-11T04:54:54.265028Z",
     "shell.execute_reply.started": "2024-10-11T04:54:54.252335Z"
    },
    "executionInfo": {
     "elapsed": 470,
     "status": "ok",
     "timestamp": 1723735941853,
     "user": {
      "displayName": "Jaycent Gunawan Ongris",
      "userId": "07740026440731769645"
     },
     "user_tz": -420
    },
    "id": "AftvX9UTSk8y",
    "outputId": "8239ce21-50b1-427b-8e4c-b0e043efdde2",
    "trusted": true
   },
   "outputs": [
    {
     "data": {
      "text/plain": [
       "tensor([1.2730, 1.3463, 1.6087, 1.2692, 1.0088, 1.7420, 1.3692, 1.6706, 1.7537,\n",
       "        1.0768, 1.4062, 0.8432, 1.7826, 1.2742, 0.8914, 1.7702, 1.5993, 1.6383,\n",
       "        1.3483, 0.9742, 1.3456, 1.5449, 1.7016, 1.1168, 1.9875, 1.2153, 0.9017,\n",
       "        1.3337, 1.3147, 1.2819, 1.8367, 0.9146, 1.2255, 1.8879, 0.9693, 0.9147,\n",
       "        1.3046, 1.5946, 1.1199, 1.5404, 1.2792, 0.9498, 1.1275, 1.3718, 1.6087,\n",
       "        1.3811, 1.9465, 1.7024, 1.4570, 0.9919, 1.0317, 1.2596, 1.1470, 1.2581,\n",
       "        1.0450, 1.4130, 1.6463, 1.7766, 1.4957, 1.3268, 1.6108, 1.6944, 1.0398,\n",
       "        1.9207, 1.1267, 1.3269, 1.3807, 0.9867, 1.4490, 1.6153, 1.3970, 1.4391,\n",
       "        1.4951, 1.6899, 1.1330, 1.1334, 1.3495, 1.8192, 1.4253, 1.3461, 1.5357,\n",
       "        1.2159, 1.2207, 1.2930, 1.1667, 1.2585, 0.9795, 1.8755, 1.2367, 1.7661,\n",
       "        0.9058, 0.9428, 1.2369, 1.1983, 1.6489, 1.4710, 1.1656, 1.5170, 1.4627,\n",
       "        1.3621], grad_fn=<SqueezeBackward4>)"
      ]
     },
     "execution_count": 127,
     "metadata": {},
     "output_type": "execute_result"
    }
   ],
   "source": [
    "# compute initial prediction using initialized weights\n",
    "\n",
    "# W.X^T\n",
    "\n",
    "pred = W @ X_train.t()\n",
    "\n",
    "pred"
   ]
  },
  {
   "cell_type": "code",
   "execution_count": 128,
   "metadata": {
    "colab": {
     "base_uri": "https://localhost:8080/"
    },
    "execution": {
     "iopub.execute_input": "2024-10-11T04:54:54.269033Z",
     "iopub.status.busy": "2024-10-11T04:54:54.268498Z",
     "iopub.status.idle": "2024-10-11T04:54:54.279000Z",
     "shell.execute_reply": "2024-10-11T04:54:54.277779Z",
     "shell.execute_reply.started": "2024-10-11T04:54:54.268973Z"
    },
    "executionInfo": {
     "elapsed": 6,
     "status": "ok",
     "timestamp": 1723735941853,
     "user": {
      "displayName": "Jaycent Gunawan Ongris",
      "userId": "07740026440731769645"
     },
     "user_tz": -420
    },
    "id": "QYdkUWnCTMaR",
    "outputId": "b1b1a2dc-226b-4445-f392-be8ec817286f",
    "trusted": true
   },
   "outputs": [
    {
     "data": {
      "text/plain": [
       "tensor(0.9500, grad_fn=<DivBackward0>)"
      ]
     },
     "execution_count": 128,
     "metadata": {},
     "output_type": "execute_result"
    }
   ],
   "source": [
    "# we want to minimize the MSE\n",
    "\n",
    "mse(pred, y_train)"
   ]
  },
  {
   "cell_type": "markdown",
   "metadata": {
    "id": "0yvsoPzlyOUf"
   },
   "source": [
    "Pada kode ini, *batch gradient descent* akan digunakan. Artinya, dalam satu iterasi, semua data akan digunakan untuk *update* parameter."
   ]
  },
  {
   "cell_type": "code",
   "execution_count": 129,
   "metadata": {
    "colab": {
     "base_uri": "https://localhost:8080/"
    },
    "execution": {
     "iopub.execute_input": "2024-10-11T04:54:54.281368Z",
     "iopub.status.busy": "2024-10-11T04:54:54.280906Z",
     "iopub.status.idle": "2024-10-11T04:54:54.750118Z",
     "shell.execute_reply": "2024-10-11T04:54:54.748724Z",
     "shell.execute_reply.started": "2024-10-11T04:54:54.281324Z"
    },
    "executionInfo": {
     "elapsed": 398,
     "status": "ok",
     "timestamp": 1723735942247,
     "user": {
      "displayName": "Jaycent Gunawan Ongris",
      "userId": "07740026440731769645"
     },
     "user_tz": -420
    },
    "id": "pQk4t5QrTJYG",
    "outputId": "6ca49fb4-efe1-46af-e136-53f2b2d53ac8",
    "trusted": true
   },
   "outputs": [
    {
     "name": "stdout",
     "output_type": "stream",
     "text": [
      "Iteration: 0, Loss: 0.9500129818916321\n",
      "Iteration: 50, Loss: 0.16815663874149323\n",
      "Iteration: 100, Loss: 0.12303473800420761\n",
      "Iteration: 150, Loss: 0.10379736125469208\n",
      "Iteration: 200, Loss: 0.0882379338145256\n",
      "Iteration: 250, Loss: 0.07520835101604462\n",
      "Iteration: 300, Loss: 0.06427919119596481\n",
      "Iteration: 350, Loss: 0.055107682943344116\n",
      "Iteration: 400, Loss: 0.04740781709551811\n",
      "Iteration: 450, Loss: 0.04094042256474495\n",
      "Iteration: 500, Loss: 0.03550555557012558\n",
      "Iteration: 550, Loss: 0.030935952439904213\n",
      "Iteration: 600, Loss: 0.027091719210147858\n",
      "Iteration: 650, Loss: 0.023855777457356453\n",
      "Iteration: 700, Loss: 0.021130142733454704\n",
      "Iteration: 750, Loss: 0.018832797184586525\n",
      "Iteration: 800, Loss: 0.016895070672035217\n",
      "Iteration: 850, Loss: 0.015259427949786186\n",
      "Iteration: 900, Loss: 0.013877689838409424\n",
      "Iteration: 950, Loss: 0.012709439732134342\n",
      "Iteration: 1000, Loss: 0.011720828711986542\n",
      "Iteration: 1050, Loss: 0.010883447714149952\n",
      "Iteration: 1100, Loss: 0.010173458606004715\n",
      "Iteration: 1150, Loss: 0.009570861235260963\n",
      "Iteration: 1200, Loss: 0.009058871306478977\n",
      "Iteration: 1250, Loss: 0.008623367175459862\n",
      "Iteration: 1300, Loss: 0.008252483792603016\n",
      "Iteration: 1350, Loss: 0.007936244830489159\n",
      "Iteration: 1400, Loss: 0.00766625814139843\n",
      "Iteration: 1450, Loss: 0.007435447536408901\n",
      "Iteration: 1500, Loss: 0.007237872574478388\n",
      "Iteration: 1550, Loss: 0.00706849992275238\n",
      "Iteration: 1600, Loss: 0.006923094391822815\n",
      "Iteration: 1650, Loss: 0.006798078306019306\n",
      "Iteration: 1700, Loss: 0.006690428126603365\n",
      "Iteration: 1750, Loss: 0.00659759109839797\n",
      "Iteration: 1800, Loss: 0.006517403293401003\n",
      "Iteration: 1850, Loss: 0.00644802488386631\n",
      "Iteration: 1900, Loss: 0.0063879042863845825\n",
      "Iteration: 1950, Loss: 0.006335722282528877\n"
     ]
    }
   ],
   "source": [
    "# use batch gradient descent\n",
    "\n",
    "NUM_EPOCHS = 2000\n",
    "\n",
    "LR = 1e-2\n",
    "\n",
    "\n",
    "\n",
    "loss_history = []\n",
    "\n",
    "\n",
    "\n",
    "for i in range(NUM_EPOCHS):\n",
    "\n",
    "  # make predictions\n",
    "\n",
    "  pred_i = W @ X_train.t()\n",
    "\n",
    "  loss = mse(pred_i, y_train)\n",
    "\n",
    "  loss_history.append(loss)\n",
    "\n",
    "  if i % 50 == 0:\n",
    "\n",
    "    print(f'Iteration: {i}, Loss: {loss}')\n",
    "\n",
    "  # compute the gradient of loss w.r.t W\n",
    "\n",
    "  loss.backward()\n",
    "\n",
    "  # the gradient value can be accessed using W.grad\n",
    "\n",
    "\n",
    "\n",
    "  # we don't want to compute gradients in this context manager\n",
    "\n",
    "  # operations within this context manager will not be tracked for autodiff\n",
    "\n",
    "  with torch.no_grad():\n",
    "\n",
    "    # update parameters\n",
    "\n",
    "    W -= LR * W.grad\n",
    "\n",
    "    # reset gradients\n",
    "\n",
    "    W.grad.zero_()"
   ]
  },
  {
   "cell_type": "code",
   "execution_count": 130,
   "metadata": {
    "colab": {
     "base_uri": "https://localhost:8080/"
    },
    "execution": {
     "iopub.execute_input": "2024-10-11T04:54:54.755196Z",
     "iopub.status.busy": "2024-10-11T04:54:54.754754Z",
     "iopub.status.idle": "2024-10-11T04:54:54.764762Z",
     "shell.execute_reply": "2024-10-11T04:54:54.763153Z",
     "shell.execute_reply.started": "2024-10-11T04:54:54.755128Z"
    },
    "executionInfo": {
     "elapsed": 5,
     "status": "ok",
     "timestamp": 1723735942247,
     "user": {
      "displayName": "Jaycent Gunawan Ongris",
      "userId": "07740026440731769645"
     },
     "user_tz": -420
    },
    "id": "O98dtrlbV_nw",
    "outputId": "91748112-a4ab-4582-d074-2e5f14521e01",
    "trusted": true
   },
   "outputs": [
    {
     "data": {
      "text/plain": [
       "tensor([ 0.4654,  0.2576, -0.6916,  0.4837], requires_grad=True)"
      ]
     },
     "execution_count": 130,
     "metadata": {},
     "output_type": "execute_result"
    }
   ],
   "source": [
    "# parameter result\n",
    "\n",
    "W"
   ]
  },
  {
   "cell_type": "code",
   "execution_count": 131,
   "metadata": {
    "execution": {
     "iopub.execute_input": "2024-10-11T04:54:54.766933Z",
     "iopub.status.busy": "2024-10-11T04:54:54.766511Z",
     "iopub.status.idle": "2024-10-11T04:54:54.795599Z",
     "shell.execute_reply": "2024-10-11T04:54:54.794208Z",
     "shell.execute_reply.started": "2024-10-11T04:54:54.766887Z"
    },
    "id": "lD8UD0KPcJlU",
    "trusted": true
   },
   "outputs": [],
   "source": [
    "# convert loss_history\n",
    "\n",
    "loss_history = [loss.detach().numpy().item() for loss in loss_history]"
   ]
  },
  {
   "cell_type": "code",
   "execution_count": 132,
   "metadata": {
    "colab": {
     "base_uri": "https://localhost:8080/",
     "height": 472
    },
    "execution": {
     "iopub.execute_input": "2024-10-11T04:54:54.802224Z",
     "iopub.status.busy": "2024-10-11T04:54:54.801789Z",
     "iopub.status.idle": "2024-10-11T04:54:55.094218Z",
     "shell.execute_reply": "2024-10-11T04:54:55.092937Z",
     "shell.execute_reply.started": "2024-10-11T04:54:54.802153Z"
    },
    "executionInfo": {
     "elapsed": 629,
     "status": "ok",
     "timestamp": 1723735942874,
     "user": {
      "displayName": "Jaycent Gunawan Ongris",
      "userId": "07740026440731769645"
     },
     "user_tz": -420
    },
    "id": "uVU5eU6JYL5O",
    "outputId": "a61fd2b4-a15f-4478-e111-9c4cb18e9fdc",
    "trusted": true
   },
   "outputs": [
    {
     "data": {
      "image/png": "[encoded data removed]",
      "text/plain": [
       "<Figure size 640x480 with 1 Axes>"
      ]
     },
     "metadata": {},
     "output_type": "display_data"
    }
   ],
   "source": [
    "import matplotlib.pyplot as plt\n",
    "\n",
    "\n",
    "\n",
    "plt.plot(loss_history)\n",
    "\n",
    "plt.title(\"MSE Loss History\")\n",
    "\n",
    "plt.xlabel('Epoch')\n",
    "\n",
    "plt.ylabel('MSE')\n",
    "\n",
    "plt.show()"
   ]
  },
  {
   "cell_type": "markdown",
   "metadata": {
    "id": "a1KgZZ43yfiK"
   },
   "source": [
    "Pada grafik tersebut, dapat dilihat bahwa *loss* menurun pada tiap *epoch*-nya."
   ]
  },
  {
   "cell_type": "markdown",
   "metadata": {
    "id": "VF4ij4rbchzp"
   },
   "source": [
    "## Tugas"
   ]
  },
  {
   "cell_type": "markdown",
   "metadata": {
    "id": "z8g6e34QcjTx"
   },
   "source": [
    "Tugas Anda adalah membuat model klasifikasi menggunakan *multi-layer dense neural network* untuk menyelesaikan permasalahan klasifikasi pada dataset Iris. Spesifikasi model yang diinginkan adalah sebagai berikut.\n",
    "\n",
    "\n",
    "\n",
    "*   Anda tidak diperkenankan menggunakan *layer built-in* PyTorch; semuanya harus menggunakan ***matrix multiplication*** untuk perhitungan *forward pass*.\n",
    "\n",
    "*   Ukuran *hidden layer* (termasuk *input layer* dan *output layer*) adalah 4, 10, 20, 10, 3.\n",
    "\n",
    "*   *Loss function* yang digunakan adalah Categorical Cross Entropy (CCE).\n",
    "\n",
    "*   Gunakan *activation function* ReLU setelah tiap *layer* kecuali *layer* terakhir.\n",
    "\n",
    "*   Ingat untuk menggunakan softmax setelah *layer* terakhir.\n",
    "\n",
    "*   Implementasi *optimizer* menggunakan *mini-batch gradient descent*.\n",
    "\n",
    "*   Implementasi Nesterov Accelerated Gradient (NAG) dengan koefisien momentum 0.9."
   ]
  },
  {
   "cell_type": "markdown",
   "metadata": {
    "id": "DqwKj1bwMq5t"
   },
   "source": [
    "*Update* parameter pada Nesterov Accelerated Gradient (NAG) dapat dirumuskan:"
   ]
  },
  {
   "cell_type": "markdown",
   "metadata": {
    "id": "6ttNf_IvM091"
   },
   "source": [
    "$$v_t = \\gamma v_{t-1}-\\alpha \\nabla_{\\theta}J(\\theta_{t-1} + \\gamma v_{t-1})$$\n",
    "\n",
    "$$\\theta_{t}=\\theta_{t-1} + v_{t}$$"
   ]
  },
  {
   "cell_type": "markdown",
   "metadata": {
    "id": "vr79iM8-NiXc"
   },
   "source": [
    "Dengan penjelasan sebagai berikut.\n",
    "\n",
    "\n",
    "\n",
    "\n",
    "\n",
    "*   $v_t$ adalah *velocity* pada iterasi ke-t.\n",
    "\n",
    "*   $\\gamma$ adalah koefisien momentum.\n",
    "\n",
    "*   $\\alpha$ adalah *learning rate*.\n",
    "\n",
    "*   $J$ adalah *loss function*, dalam hal ini adalah CCE.\n",
    "\n",
    "*   $\\theta_{t}$ adalah parameter pada iterasi ke-t.\n",
    "\n",
    "\n",
    "\n",
    "Inisialisasi $v$ dengan nilai $0$, dengan ukuran sama dengan $\\theta$. Perhatikan bahwa matriks parameter $\\theta$ di tiap *layer* harus di-*update*.\n",
    "\n",
    "\n"
   ]
  },
  {
   "cell_type": "markdown",
   "metadata": {
    "id": "BJgWX74hSWkc"
   },
   "source": [
    "Jika Anda tertarik untuk mengetahui lebih lanjut terkait NAG, Anda dapat mengunjungi [URL](https://mitliagkas.github.io/ift6085-2019/ift-6085-lecture-6-notes.pdf) ini."
   ]
  },
  {
   "cell_type": "code",
   "execution_count": 133,
   "metadata": {
    "colab": {
     "base_uri": "https://localhost:8080/"
    },
    "execution": {
     "iopub.execute_input": "2024-10-11T04:54:55.097789Z",
     "iopub.status.busy": "2024-10-11T04:54:55.097327Z",
     "iopub.status.idle": "2024-10-11T04:54:55.110964Z",
     "shell.execute_reply": "2024-10-11T04:54:55.109459Z",
     "shell.execute_reply.started": "2024-10-11T04:54:55.097745Z"
    },
    "executionInfo": {
     "elapsed": 17,
     "status": "ok",
     "timestamp": 1723735942875,
     "user": {
      "displayName": "Jaycent Gunawan Ongris",
      "userId": "07740026440731769645"
     },
     "user_tz": -420
    },
    "id": "Qaj1e0Pxc3Eb",
    "outputId": "0bc06e87-c835-4d21-c752-d600ead8b709",
    "trusted": true
   },
   "outputs": [
    {
     "name": "stdout",
     "output_type": "stream",
     "text": [
      "Training set size: (120, 4)\n",
      "Testing set size: (30, 4)\n"
     ]
    }
   ],
   "source": [
    "from sklearn.datasets import load_iris\n",
    "\n",
    "from sklearn.model_selection import train_test_split\n",
    "\n",
    "\n",
    "\n",
    "iris = load_iris()\n",
    "\n",
    "\n",
    "\n",
    "X = iris.data\n",
    "\n",
    "y = iris.target\n",
    "\n",
    "\n",
    "\n",
    "# train-test split\n",
    "\n",
    "X_train, X_test, y_train, y_test = train_test_split(X, y, test_size=0.2, random_state=42)\n",
    "\n",
    "\n",
    "\n",
    "print(\"Training set size:\", X_train.shape)\n",
    "\n",
    "print(\"Testing set size:\", X_test.shape)"
   ]
  },
  {
   "cell_type": "markdown",
   "metadata": {
    "id": "AKjucNLPXjlu"
   },
   "source": [
    "Lengkapilah potongan kode berikut pada bagian yang ditandai dengan `# TODO`."
   ]
  },
  {
   "cell_type": "code",
   "execution_count": 134,
   "metadata": {
    "execution": {
     "iopub.execute_input": "2024-10-11T04:54:55.113852Z",
     "iopub.status.busy": "2024-10-11T04:54:55.113351Z",
     "iopub.status.idle": "2024-10-11T04:54:55.142445Z",
     "shell.execute_reply": "2024-10-11T04:54:55.140989Z",
     "shell.execute_reply.started": "2024-10-11T04:54:55.113805Z"
    },
    "id": "YXWcqda6dhV_",
    "trusted": true
   },
   "outputs": [],
   "source": [
    "class MLPClassifier:\n",
    "\n",
    "  def __init__(self, hidden_size_list, eps=1e-9, epochs=2000, lr=1e-4, batch_size=None, momentum=0.9):\n",
    "\n",
    "    # WARNING: DO NOT CHANGE; FOR REPRODUCIBILITY\n",
    "\n",
    "    torch.manual_seed(15)\n",
    "\n",
    "    # size of hidden layers, including input and output\n",
    "\n",
    "    self.hidden_size_list = hidden_size_list\n",
    "\n",
    "    # list of trainable parameters (for each layer)\n",
    "\n",
    "    self.weights = []\n",
    "\n",
    "    # small constant to prevent division by zero in computing CCE\n",
    "\n",
    "    self.eps = eps\n",
    "\n",
    "    # number of iterations\n",
    "\n",
    "    self.epochs = epochs\n",
    "\n",
    "    # learning rate\n",
    "\n",
    "    self.lr = lr\n",
    "\n",
    "    # if batch_size = None, then use batch gradient descent\n",
    "\n",
    "    self.batch_size = batch_size\n",
    "\n",
    "    # momentum coefficient\n",
    "\n",
    "    self.momentum = momentum\n",
    "\n",
    "    # list of NAG velocities (for each layer)\n",
    "\n",
    "    self.velocities = []\n",
    "\n",
    "\n",
    "\n",
    "  def _init_weights(self):\n",
    "\n",
    "    # modify first hidden layer to include bias\n",
    "\n",
    "    hids = self.hidden_size_list\n",
    "\n",
    "    hids[0] += 1\n",
    "\n",
    "    for i in range(len(hids)-1):\n",
    "\n",
    "      row_size = hids[i]\n",
    "\n",
    "      col_size = hids[i+1]\n",
    "\n",
    "      # initialize using Glorot initialization\n",
    "\n",
    "      # read this for more info: https://pytorch.org/docs/stable/_modules/torch/nn/init.html#xavier_uniform_\n",
    "\n",
    "      init = torch.nn.init.xavier_uniform_(torch.empty(row_size, col_size))\n",
    "\n",
    "      self.weights.append(torch.nn.Parameter(init, requires_grad=True))\n",
    "\n",
    "      self.velocities.append(torch.zeros_like(init))\n",
    "\n",
    "\n",
    "\n",
    "  def fit(self, X_train, y_train):\n",
    "\n",
    "    if X_train.shape[1] != self.hidden_size_list[0]:\n",
    "\n",
    "      raise RuntimeError('The size of the first layer and the number of features mismatch.')\n",
    "\n",
    "    if len(set(y_train)) != self.hidden_size_list[-1]:\n",
    "\n",
    "      raise RuntimeError('The size of the last layer and the number of output classes mismatch.')\n",
    "\n",
    "    if self.batch_size == None:\n",
    "\n",
    "      # batch GD\n",
    "\n",
    "      self.batch_size = X_train.shape[0]\n",
    "\n",
    "\n",
    "\n",
    "    # weights initialization and tensor conversion\n",
    "\n",
    "    self._init_weights()\n",
    "\n",
    "    X_train = torch.tensor(X_train, dtype=torch.float32)\n",
    "\n",
    "    y_train = torch.tensor(y_train, dtype=torch.long)\n",
    "\n",
    "\n",
    "\n",
    "    # modify X_train to include bias using vector of ones\n",
    "\n",
    "    ones = torch.ones(X_train.shape[0], 1)\n",
    "\n",
    "    X_train = torch.cat((X_train, ones), dim=1)\n",
    "\n",
    "\n",
    "\n",
    "    # convert to one hot encoding\n",
    "\n",
    "    y_train = torch.nn.functional.one_hot(y_train, num_classes=self.hidden_size_list[-1])\n",
    "\n",
    "\n",
    "\n",
    "    # training\n",
    "\n",
    "    for i in range(self.epochs):\n",
    "\n",
    "      # shuffle data (must be consistent between X and y)\n",
    "\n",
    "      # for mini-batch or stochastic gradient descent\n",
    "\n",
    "      # not affecting batch gradient descent\n",
    "\n",
    "      indices = torch.randperm(X_train.shape[0])\n",
    "\n",
    "      X_train = X_train[indices]\n",
    "\n",
    "      y_train = y_train[indices]\n",
    "\n",
    "\n",
    "\n",
    "      # TODO: Lakukan iterasi mini-batch gradient descent\n",
    "\n",
    "      for j in range(0, X_train.shape[0], self.batch_size):\n",
    "        X_batch = X_train[j:j+self.batch_size]\n",
    "        y_batch = y_train[j:j+self.batch_size]\n",
    "\n",
    "        # Forward pass with lookahead weights\n",
    "        lookahead_weights = [w + self.momentum * v for w, v in zip(self.weights, self.velocities)]\n",
    "        y_pred = self._forward(X_batch)\n",
    "\n",
    "        # Compute loss\n",
    "        loss = self._cceloss(y_pred, y_batch)\n",
    "\n",
    "        # Backpropagation (Manual gradients computation)\n",
    "        grads = torch.autograd.grad(loss, lookahead_weights, retain_graph=True)\n",
    "\n",
    "        # Update velocities and weights using NAG\n",
    "        for l in range(len(self.weights)):\n",
    "            self.velocities[l] = self.momentum * self.velocities[l] - self.lr * grads[l]\n",
    "            self.weights[l] = self.weights[l] + self.velocities[l]\n",
    "    \n",
    "        # if i % 100 == 0:\n",
    "        #         print(f'Epoch {i}, Loss: {loss.item()}')\n",
    "\n",
    "\n",
    "      # progress\n",
    "\n",
    "      if i % 100 == 0:\n",
    "\n",
    "        print(f'Iteration: {i}, Loss: {loss}')\n",
    "\n",
    "\n",
    "\n",
    "  def _softmax(self, x):\n",
    "\n",
    "    # TODO: Implementasi softmax\n",
    "\n",
    "    exps = torch.exp(x - torch.max(x))  # Subtract max for numerical stability\n",
    "    return exps / torch.sum(exps, dim=1, keepdim=True)\n",
    "\n",
    "\n",
    "\n",
    "  def _cceloss(self, y_pred, y_true):\n",
    "\n",
    "    # TODO: Implementasi CCE loss\n",
    "\n",
    "    y_pred = torch.clamp(y_pred, min=self.eps, max=1.0 - self.eps)  # Prevent log(0)\n",
    "    return -torch.sum(y_true * torch.log(y_pred)) / y_pred.shape[0]\n",
    "\n",
    "\n",
    "\n",
    "  def _forward(self, X):\n",
    "\n",
    "    # TODO: Lakukan forward propagation\n",
    "\n",
    "    return None\n",
    "\n",
    "\n",
    "\n",
    "  def _relu(self, X):\n",
    "\n",
    "    # TODO: Implementasi ReLU\n",
    "\n",
    "    return torch.max(torch.tensor(0.0), X)\n",
    "\n",
    "\n",
    "\n",
    "  def predict(self, X_test):\n",
    "\n",
    "    # TODO: Implementasi fungsi untuk prediksi dari suatu dataset\n",
    "\n",
    "    # Output dari fungsi ini adalah class yang diprediksi, yakni 0, 1, atau 2\n",
    "\n",
    "    # Anda dapat menggunakan fungsi torch.argmax()\n",
    "\n",
    "    X_test = torch.tensor(X_test, dtype=torch.float32)\n",
    "    # Tambahkan bias pada input test\n",
    "    ones = torch.ones(X_test.shape[0], 1)\n",
    "    X_test = torch.cat((X_test, ones), dim=1)\n",
    "    # Lakukan forward propagation\n",
    "    y_pred = self._forward(X_test)\n",
    "    # Prediksi class (0, 1, atau 2)\n",
    "    return torch.argmax(y_pred, dim=1)"
   ]
  },
  {
   "cell_type": "code",
   "execution_count": null,
   "metadata": {},
   "outputs": [],
   "source": [
    "# revisi koreksi inaya 4-11\n",
    "# grad descent with momentum\n",
    "# Hyperparameters\n",
    "NUM_EPOCHS = 2000\n",
    "LR = 1e-2\n",
    "MOMENTUM = 0.9\n",
    "\n",
    "# Initialize velocity\n",
    "velocity = torch.zeros_like(W)\n",
    "\n",
    "loss_history = []\n",
    "\n",
    "for i in range(NUM_EPOCHS):\n",
    "    # Nesterov look-ahead step: compute the gradient at the look-ahead position\n",
    "    with torch.no_grad():\n",
    "        W_lookahead = W - MOMENTUM * velocity\n",
    "\n",
    "    # Make predictions using the look-ahead weights\n",
    "    pred_i = W_lookahead @ X_train.t()\n",
    "    \n",
    "    # Compute the loss\n",
    "    loss = mse(pred_i, y_train)\n",
    "    loss_history.append(loss.item())\n",
    "\n",
    "    # Print progress every 50 iterations\n",
    "    if i % 50 == 0:\n",
    "        print(f'Iteration: {i}, Loss: {loss.item()}')\n",
    "\n",
    "    # Compute gradients of the loss w.r.t. W (using look-ahead weights)\n",
    "    loss.backward()\n",
    "\n",
    "    # Update velocity and apply it to weights with learning rate and momentum\n",
    "    with torch.no_grad():\n",
    "        # Compute the velocity update\n",
    "        velocity = MOMENTUM * velocity + LR * W.grad\n",
    "        \n",
    "        # Update the weights using NAG\n",
    "        W -= velocity\n",
    "\n",
    "        # Zero out the gradients for the next iteration\n",
    "        W.grad.zero_()\n"
   ]
  },
  {
   "cell_type": "markdown",
   "metadata": {},
   "source": [
    "*koreksi inaya 4-11*\n",
    "\n",
    "\n",
    "Velocity represents the ball's speed and direction. As you push it, the ball starts to roll and gains speed in a particular direction, which it retains over time. If you encounter a small hill (change in gradient), the ball doesn't immediately stop but continues in the general direction it's been pushed.\n",
    "\n",
    "\n",
    "Momentum is a factor that determines how much the ball's current speed should depend on its past speed. High momentum (close to 1) means the ball keeps a lot of its past speed, helping it roll over small obstacles. Low momentum (close to 0) means it mostly relies on the current push (gradient) without much influence from the past.\n",
    "\n",
    "In standard momentum-based gradient descent, the gradient is calculated at the current position of the parameters, and then the parameters are updated by moving in the direction of the accumulated momentum (velocity).\n",
    "\n",
    "\n",
    "In NAG, we first “look ahead” in the direction of the accumulated momentum (like taking a small predictive step) before calculating the gradient. This means that the gradient is computed based on an anticipated position, not the current position."
   ]
  },
  {
   "cell_type": "markdown",
   "metadata": {
    "id": "Sjv6wR5yX7c0"
   },
   "source": [
    "Setelah melengkapi kode di atas, jalankan eksperimen sesuai dengan kondisi-kondisi yang diberikan berikut untuk membandingkan performa batch, mini-batch, dan stochastic gradient descent, dengan dan tanpa Nesterov's momentum.\n",
    "\n",
    "\n",
    "\n",
    "\n",
    "\n",
    "*   Batch gradient descent tanpa momentum\n",
    "\n",
    "*   Batch gradient descent dengan momentum ($\\gamma=0.9$)\n",
    "\n",
    "*   Mini-batch gradient descent (batch size = 12) tanpa momentum\n",
    "\n",
    "*   Mini-batch gradient descent (batch size = 12) dengan momentum ($\\gamma=0.9$)\n",
    "\n",
    "*   Stochastic gradient descent tanpa momentum\n",
    "\n",
    "*   Stochastic gradient descent dengan momentum ($\\gamma=0.9$)\n",
    "\n",
    "\n",
    "\n",
    "Semua konfigurasi eksperimen yang lain (*epochs*, *learning rate*, dll.) bebas ditentukan oleh Anda sendiri. Akan tetapi, pastikan bahwa semua eksperimen menggunakan konfigurasi yang sama. Sebagai contoh, jika Anda menentukan jumlah iterasi yang digunakan adalah 100, maka pastikan semua eksperimen tersebut menggunakan 100 iterasi.\n",
    "\n",
    "\n"
   ]
  },
  {
   "cell_type": "code",
   "execution_count": 135,
   "metadata": {
    "execution": {
     "iopub.execute_input": "2024-10-11T04:54:55.144363Z",
     "iopub.status.busy": "2024-10-11T04:54:55.143932Z",
     "iopub.status.idle": "2024-10-11T04:54:55.303009Z",
     "shell.execute_reply": "2024-10-11T04:54:55.301333Z",
     "shell.execute_reply.started": "2024-10-11T04:54:55.144320Z"
    },
    "id": "sFVBqUK0ZvHS",
    "trusted": true
   },
   "outputs": [
    {
     "name": "stdout",
     "output_type": "stream",
     "text": [
      "Running experiment with batch_size=120, momentum=0.0\n"
     ]
    },
    {
     "ename": "RuntimeError",
     "evalue": "mat1 and mat2 shapes cannot be multiplied (120x5 and 4x10)",
     "output_type": "error",
     "traceback": [
      "\u001b[0;31m---------------------------------------------------------------------------\u001b[0m",
      "\u001b[0;31mRuntimeError\u001b[0m                              Traceback (most recent call last)",
      "Cell \u001b[0;32mIn[135], line 50\u001b[0m\n\u001b[1;32m     47\u001b[0m results \u001b[38;5;241m=\u001b[39m {}\n\u001b[1;32m     49\u001b[0m \u001b[38;5;66;03m# 1. Batch Gradient Descent tanpa momentum\u001b[39;00m\n\u001b[0;32m---> 50\u001b[0m results[\u001b[38;5;241m1\u001b[39m] \u001b[38;5;241m=\u001b[39m \u001b[43mrun_experiment\u001b[49m\u001b[43m(\u001b[49m\u001b[43mbatch_size\u001b[49m\u001b[38;5;241;43m=\u001b[39;49m\u001b[43mX_train\u001b[49m\u001b[38;5;241;43m.\u001b[39;49m\u001b[43mshape\u001b[49m\u001b[43m[\u001b[49m\u001b[38;5;241;43m0\u001b[39;49m\u001b[43m]\u001b[49m\u001b[43m,\u001b[49m\u001b[43m \u001b[49m\u001b[43mmomentum\u001b[49m\u001b[38;5;241;43m=\u001b[39;49m\u001b[38;5;241;43m0.0\u001b[39;49m\u001b[43m)\u001b[49m\n\u001b[1;32m     52\u001b[0m \u001b[38;5;66;03m# 2. Batch Gradient Descent dengan momentum\u001b[39;00m\n\u001b[1;32m     53\u001b[0m results[\u001b[38;5;241m2\u001b[39m] \u001b[38;5;241m=\u001b[39m run_experiment(batch_size\u001b[38;5;241m=\u001b[39mX_train\u001b[38;5;241m.\u001b[39mshape[\u001b[38;5;241m0\u001b[39m], momentum\u001b[38;5;241m=\u001b[39m\u001b[38;5;241m0.9\u001b[39m)\n",
      "Cell \u001b[0;32mIn[135], line 35\u001b[0m, in \u001b[0;36mrun_experiment\u001b[0;34m(batch_size, momentum)\u001b[0m\n\u001b[1;32m     28\u001b[0m model \u001b[38;5;241m=\u001b[39m MLPClassifier(hidden_size_list\u001b[38;5;241m=\u001b[39mhidden_size_list, \n\u001b[1;32m     29\u001b[0m                       epochs\u001b[38;5;241m=\u001b[39mepochs, \n\u001b[1;32m     30\u001b[0m                       lr\u001b[38;5;241m=\u001b[39mlearning_rate, \n\u001b[1;32m     31\u001b[0m                       batch_size\u001b[38;5;241m=\u001b[39mbatch_size, \n\u001b[1;32m     32\u001b[0m                       momentum\u001b[38;5;241m=\u001b[39mmomentum)\n\u001b[1;32m     34\u001b[0m \u001b[38;5;66;03m# Train the model\u001b[39;00m\n\u001b[0;32m---> 35\u001b[0m \u001b[43mmodel\u001b[49m\u001b[38;5;241;43m.\u001b[39;49m\u001b[43mfit\u001b[49m\u001b[43m(\u001b[49m\u001b[43mX_train\u001b[49m\u001b[43m,\u001b[49m\u001b[43m \u001b[49m\u001b[43my_train\u001b[49m\u001b[43m)\u001b[49m\n\u001b[1;32m     37\u001b[0m \u001b[38;5;66;03m# Predict on the test set\u001b[39;00m\n\u001b[1;32m     38\u001b[0m y_pred \u001b[38;5;241m=\u001b[39m model\u001b[38;5;241m.\u001b[39mpredict(X_test)\n",
      "Cell \u001b[0;32mIn[134], line 54\u001b[0m, in \u001b[0;36mMLPClassifier.fit\u001b[0;34m(self, X_train, y_train)\u001b[0m\n\u001b[1;32m     52\u001b[0m \u001b[38;5;66;03m# Forward pass with lookahead weights\u001b[39;00m\n\u001b[1;32m     53\u001b[0m lookahead_weights \u001b[38;5;241m=\u001b[39m [w \u001b[38;5;241m+\u001b[39m \u001b[38;5;28mself\u001b[39m\u001b[38;5;241m.\u001b[39mmomentum \u001b[38;5;241m*\u001b[39m v \u001b[38;5;28;01mfor\u001b[39;00m w, v \u001b[38;5;129;01min\u001b[39;00m \u001b[38;5;28mzip\u001b[39m(\u001b[38;5;28mself\u001b[39m\u001b[38;5;241m.\u001b[39mweights, \u001b[38;5;28mself\u001b[39m\u001b[38;5;241m.\u001b[39mvelocities)]\n\u001b[0;32m---> 54\u001b[0m y_pred \u001b[38;5;241m=\u001b[39m \u001b[38;5;28;43mself\u001b[39;49m\u001b[38;5;241;43m.\u001b[39;49m\u001b[43m_forward\u001b[49m\u001b[43m(\u001b[49m\u001b[43mX_batch\u001b[49m\u001b[43m)\u001b[49m\n\u001b[1;32m     56\u001b[0m \u001b[38;5;66;03m# Compute loss\u001b[39;00m\n\u001b[1;32m     57\u001b[0m loss \u001b[38;5;241m=\u001b[39m \u001b[38;5;28mself\u001b[39m\u001b[38;5;241m.\u001b[39m_cceloss(y_pred, y_batch)\n",
      "Cell \u001b[0;32mIn[134], line 81\u001b[0m, in \u001b[0;36mMLPClassifier._forward\u001b[0;34m(self, X)\u001b[0m\n\u001b[1;32m     79\u001b[0m out \u001b[38;5;241m=\u001b[39m X\n\u001b[1;32m     80\u001b[0m \u001b[38;5;28;01mfor\u001b[39;00m i \u001b[38;5;129;01min\u001b[39;00m \u001b[38;5;28mrange\u001b[39m(\u001b[38;5;28mlen\u001b[39m(\u001b[38;5;28mself\u001b[39m\u001b[38;5;241m.\u001b[39mweights) \u001b[38;5;241m-\u001b[39m \u001b[38;5;241m1\u001b[39m):\n\u001b[0;32m---> 81\u001b[0m     out \u001b[38;5;241m=\u001b[39m \u001b[38;5;28mself\u001b[39m\u001b[38;5;241m.\u001b[39m_relu(\u001b[43mtorch\u001b[49m\u001b[38;5;241;43m.\u001b[39;49m\u001b[43mmatmul\u001b[49m\u001b[43m(\u001b[49m\u001b[43mout\u001b[49m\u001b[43m,\u001b[49m\u001b[43m \u001b[49m\u001b[38;5;28;43mself\u001b[39;49m\u001b[38;5;241;43m.\u001b[39;49m\u001b[43mweights\u001b[49m\u001b[43m[\u001b[49m\u001b[43mi\u001b[49m\u001b[43m]\u001b[49m\u001b[43m)\u001b[49m)\n\u001b[1;32m     82\u001b[0m out \u001b[38;5;241m=\u001b[39m \u001b[38;5;28mself\u001b[39m\u001b[38;5;241m.\u001b[39m_softmax(torch\u001b[38;5;241m.\u001b[39mmatmul(out, \u001b[38;5;28mself\u001b[39m\u001b[38;5;241m.\u001b[39mweights[\u001b[38;5;241m-\u001b[39m\u001b[38;5;241m1\u001b[39m]))\n\u001b[1;32m     83\u001b[0m \u001b[38;5;28;01mreturn\u001b[39;00m out\n",
      "\u001b[0;31mRuntimeError\u001b[0m: mat1 and mat2 shapes cannot be multiplied (120x5 and 4x10)"
     ]
    }
   ],
   "source": [
    "# TODO: Eksperimen dengan menggunakan 6 kondisi di atas\n",
    "import torch\n",
    "import numpy as np\n",
    "from sklearn.datasets import load_iris\n",
    "from sklearn.model_selection import train_test_split\n",
    "from sklearn.preprocessing import StandardScaler\n",
    "\n",
    "# Load and preprocess the Iris dataset\n",
    "\n",
    "scaler = StandardScaler()\n",
    "X_train = scaler.fit_transform(X_train)\n",
    "X_test = scaler.transform(X_test)\n",
    "\n",
    "# Define hyperparameters\n",
    "epochs = 1000\n",
    "learning_rate = 0.01\n",
    "batch_size = None  # Will be set dynamically\n",
    "momentum = 0.0  # Will be set dynamically for momentum cases\n",
    "\n",
    "# Define the hidden layer sizes\n",
    "hidden_size_list = [4, 10, 20, 10, 3]\n",
    "\n",
    "# Define a function to run an experiment\n",
    "def run_experiment(batch_size, momentum):\n",
    "    print(f\"Running experiment with batch_size={batch_size}, momentum={momentum}\")\n",
    "\n",
    "    # Initialize MLPClassifier model\n",
    "    model = MLPClassifier(hidden_size_list=hidden_size_list, \n",
    "                          epochs=epochs, \n",
    "                          lr=learning_rate, \n",
    "                          batch_size=batch_size, \n",
    "                          momentum=momentum)\n",
    "    \n",
    "    # Train the model\n",
    "    model.fit(X_train, y_train)\n",
    "\n",
    "    # Predict on the test set\n",
    "    y_pred = model.predict(X_test)\n",
    "    return y_pred\n",
    "    # # Calculate accuracy\n",
    "    # accuracy = accuracy_score(y_test, y_pred.numpy())  # Convert torch tensor to numpy array for accuracy calculation\n",
    "    \n",
    "    # print(f\"Accuracy: {accuracy}\")\n",
    "    # return accuracy\n",
    "\n",
    "# Experiments\n",
    "results = {}\n",
    "\n",
    "# 1. Batch Gradient Descent tanpa momentum\n",
    "results[1] = run_experiment(batch_size=X_train.shape[0], momentum=0.0)\n",
    "\n",
    "# 2. Batch Gradient Descent dengan momentum\n",
    "results[2] = run_experiment(batch_size=X_train.shape[0], momentum=0.9)\n",
    "\n",
    "# 3. Mini-batch Gradient Descent (batch size = 12) tanpa momentum\n",
    "results[3] = run_experiment(batch_size=12, momentum=0.0)\n",
    "\n",
    "# 4. Mini-batch Gradient Descent (batch size = 12) dengan momentum\n",
    "results[4] = run_experiment(batch_size=12, momentum=0.9)\n",
    "\n",
    "# 5. Stochastic Gradient Descent (batch size = 1) tanpa momentum\n",
    "results[5] = run_experiment(batch_size=1, momentum=0.0)\n",
    "\n",
    "# 6. Stochastic Gradient Descent (batch size = 1) dengan momentum\n",
    "results[6] = run_experiment(batch_size=1, momentum=0.9)\n"
   ]
  },
  {
   "cell_type": "markdown",
   "metadata": {
    "id": "7MMCammtA0Op"
   },
   "source": [
    "Evaluasi hasil klasifikasi keenam eksperimen tersebut dengan metrik akurasi. Gunakan data *test* sesuai yang telah di-*split* sebelumnya (`X_test` dengan ground truth `y_test`). Berikan sedikit penjelasan terkait hasil klasifikasi tersebut, apakah sesuai ekspektasi Anda dengan mempertimbangkan *loss*-nya? Anda dapat menggunakan `accuracy_score` untuk menghitung skor akurasi."
   ]
  },
  {
   "cell_type": "code",
   "execution_count": null,
   "metadata": {
    "execution": {
     "iopub.status.busy": "2024-10-11T04:54:55.303909Z",
     "iopub.status.idle": "2024-10-11T04:54:55.304347Z",
     "shell.execute_reply": "2024-10-11T04:54:55.304139Z",
     "shell.execute_reply.started": "2024-10-11T04:54:55.304117Z"
    },
    "id": "07S2C23UBuDb",
    "trusted": true
   },
   "outputs": [],
   "source": [
    "# TODO: Evaluasi akurasi\n",
    "\n",
    "from sklearn.metrics import accuracy_score\n",
    "\n",
    "\n",
    "def calc_accuracy(y_test=y_test, y_pred, key):\n",
    "    accuracy = accuracy_score(y_test, y_pred.numpy())  # Convert torch tensor to numpy array for accuracy calculation\n",
    "    \n",
    "    print(f\"Accuracy {key}: {accuracy}\")\n",
    "    return accuracy\n",
    "\n",
    "for i,j in results.items():\n",
    "    calc_accuracy(j, i)\n"
   ]
  },
  {
   "cell_type": "markdown",
   "metadata": {
    "id": "9ByeWalkaYrK"
   },
   "source": [
    "Jelaskan apa yang bisa Anda dapatkan dari percobaan tersebut! Tentukan metode apa yang menurut Anda memiliki performa yang paling baik, jelaskan alasan Anda memilih metode tersebut, dan jelaskan mengapa metode tersebut memberikan performa yang paling baik."
   ]
  },
  {
   "cell_type": "markdown",
   "metadata": {
    "id": "5Va_RL7cavNr"
   },
   "source": [
    "\n",
    "\n",
    "\n",
    "\n",
    "> TODO: Jawab pertanyaan tersebut\n",
    "\n",
    "\n"
   ]
  }
 ],
 "metadata": {
  "colab": {
   "authorship_tag": "ABX9TyMEPUNGmchn91fODwpOxdvK",
   "provenance": []
  },
  "kaggle": {
   "accelerator": "none",
   "dataSources": [],
   "dockerImageVersionId": 30786,
   "isGpuEnabled": false,
   "isInternetEnabled": true,
   "language": "python",
   "sourceType": "notebook"
  },
  "kernelspec": {
   "display_name": "env",
   "language": "python",
   "name": "python3"
  },
  "language_info": {
   "codemirror_mode": {
    "name": "ipython",
    "version": 3
   },
   "file_extension": ".py",
   "mimetype": "text/x-python",
   "name": "python",
   "nbconvert_exporter": "python",
   "pygments_lexer": "ipython3",
   "version": "3.10.0"
  }
 },
 "nbformat": 4,
 "nbformat_minor": 4
}
