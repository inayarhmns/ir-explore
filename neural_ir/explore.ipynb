{
 "cells": [
  {
   "cell_type": "markdown",
   "metadata": {},
   "source": [
    "File ini untuk explore cara pake torch"
   ]
  },
  {
   "cell_type": "code",
   "execution_count": 2,
   "metadata": {},
   "outputs": [
    {
     "name": "stdout",
     "output_type": "stream",
     "text": [
      "Requirement already satisfied: torch in c:\\users\\inaya\\onedrive - universitas indonesia\\term 7\\natural language processing\\nlp-lab-3-main\\env\\lib\\site-packages (2.5.0)\n",
      "Requirement already satisfied: filelock in c:\\users\\inaya\\onedrive - universitas indonesia\\term 7\\natural language processing\\nlp-lab-3-main\\env\\lib\\site-packages (from torch) (3.16.1)\n",
      "Requirement already satisfied: typing-extensions>=4.8.0 in c:\\users\\inaya\\onedrive - universitas indonesia\\term 7\\natural language processing\\nlp-lab-3-main\\env\\lib\\site-packages (from torch) (4.12.2)\n",
      "Requirement already satisfied: networkx in c:\\users\\inaya\\onedrive - universitas indonesia\\term 7\\natural language processing\\nlp-lab-3-main\\env\\lib\\site-packages (from torch) (3.4.2)\n",
      "Requirement already satisfied: jinja2 in c:\\users\\inaya\\onedrive - universitas indonesia\\term 7\\natural language processing\\nlp-lab-3-main\\env\\lib\\site-packages (from torch) (3.1.4)\n",
      "Requirement already satisfied: fsspec in c:\\users\\inaya\\onedrive - universitas indonesia\\term 7\\natural language processing\\nlp-lab-3-main\\env\\lib\\site-packages (from torch) (2024.10.0)\n",
      "Requirement already satisfied: sympy==1.13.1 in c:\\users\\inaya\\onedrive - universitas indonesia\\term 7\\natural language processing\\nlp-lab-3-main\\env\\lib\\site-packages (from torch) (1.13.1)\n",
      "Requirement already satisfied: mpmath<1.4,>=1.1.0 in c:\\users\\inaya\\onedrive - universitas indonesia\\term 7\\natural language processing\\nlp-lab-3-main\\env\\lib\\site-packages (from sympy==1.13.1->torch) (1.3.0)\n",
      "Requirement already satisfied: MarkupSafe>=2.0 in c:\\users\\inaya\\onedrive - universitas indonesia\\term 7\\natural language processing\\nlp-lab-3-main\\env\\lib\\site-packages (from jinja2->torch) (3.0.2)\n",
      "Note: you may need to restart the kernel to use updated packages.\n"
     ]
    },
    {
     "name": "stderr",
     "output_type": "stream",
     "text": [
      "\n",
      "[notice] A new release of pip is available: 24.0 -> 24.2\n",
      "[notice] To update, run: python.exe -m pip install --upgrade pip\n"
     ]
    }
   ],
   "source": [
    "%pip install torch"
   ]
  },
  {
   "cell_type": "markdown",
   "metadata": {},
   "source": [
    "Cara pake tensor di torch, operation basic, dll"
   ]
  },
  {
   "cell_type": "code",
   "execution_count": 4,
   "metadata": {},
   "outputs": [
    {
     "name": "stdout",
     "output_type": "stream",
     "text": [
      "tensor([[[ 0,  1,  2,  3,  4],\n",
      "         [ 5,  6,  7,  8,  9],\n",
      "         [10, 11, 12, 13, 14],\n",
      "         [15, 16, 17, 18, 19]],\n",
      "\n",
      "        [[20, 21, 22, 23, 24],\n",
      "         [25, 26, 27, 28, 29],\n",
      "         [30, 31, 32, 33, 34],\n",
      "         [35, 36, 37, 38, 39]],\n",
      "\n",
      "        [[40, 41, 42, 43, 44],\n",
      "         [45, 46, 47, 48, 49],\n",
      "         [50, 51, 52, 53, 54],\n",
      "         [55, 56, 57, 58, 59]]])\n",
      "Scalar value at index (1, 2, 3): tensor(33)\n",
      "2D slice at index 1:\n",
      " tensor([[20, 21, 22, 23, 24],\n",
      "        [25, 26, 27, 28, 29],\n",
      "        [30, 31, 32, 33, 34],\n",
      "        [35, 36, 37, 38, 39]])\n",
      "Complex slice X[1, :, 2:4]:\n",
      " tensor([[22, 23],\n",
      "        [27, 28],\n",
      "        [32, 33],\n",
      "        [37, 38]])\n"
     ]
    }
   ],
   "source": [
    "import torch\n",
    "\n",
    "# Create a 3D tensor of size (3, 4, 5)\n",
    "X = torch.arange(3*4*5).reshape(3, 4, 5)\n",
    "print(X)\n",
    "# Example 1: Scalar value at index (1, 2, 3)\n",
    "scalar_value = X[1, 2, 3]\n",
    "print(\"Scalar value at index (1, 2, 3):\", scalar_value)\n",
    "\n",
    "# Example 2: 2D slice at index 1 (which gives a matrix of size (4, 5))\n",
    "matrix_slice = X[1]\n",
    "print(\"2D slice at index 1:\\n\", matrix_slice)\n",
    "\n",
    "# Example 3: Complex slice X[1, :, 2:4] (which gives a 2D slice of size (4, 2))\n",
    "complex_slice = X[1, :, 2:4]\n",
    "print(\"Complex slice X[1, :, 2:4]:\\n\", complex_slice)\n"
   ]
  },
  {
   "cell_type": "code",
   "execution_count": 5,
   "metadata": {},
   "outputs": [
    {
     "name": "stdout",
     "output_type": "stream",
     "text": [
      "ini X\n",
      " tensor([[-1.5865],\n",
      "        [-1.0122],\n",
      "        [-0.4547],\n",
      "        [-0.3462]])\n",
      "ini Y\n",
      " tensor([0.4134, 0.3966, 0.2922, 2.0167])\n",
      "X+Y\n",
      " tensor([[-1.1731, -1.1899, -1.2944,  0.4302],\n",
      "        [-0.5988, -0.6156, -0.7201,  1.0045],\n",
      "        [-0.0413, -0.0580, -0.1625,  1.5620],\n",
      "        [ 0.0672,  0.0504, -0.0540,  1.6705]])\n",
      "torch.Size([4, 4])\n"
     ]
    }
   ],
   "source": [
    "# broadcasting rule problem \n",
    "X = torch.randn((4,1))\n",
    "print(f\"ini X\\n {X}\")\n",
    "\n",
    "Y = torch.randn((4,))\n",
    "print(f\"ini Y\\n {Y}\")\n",
    "\n",
    "operasi = (X+Y)\n",
    "print(f\"X+Y\\n {operasi}\")\n",
    "print(operasi.shape)\n",
    "\n",
    "\"\"\"\n",
    "    Seharusnya pake yang X kalo mau column vector dan Y klo mau row vector dan klo mau operasi\n",
    "    harus sama sama row atau sama sama col \n",
    "\"\"\""
   ]
  },
  {
   "cell_type": "code",
   "execution_count": 10,
   "metadata": {},
   "outputs": [
    {
     "name": "stdout",
     "output_type": "stream",
     "text": [
      "tensor([[-2.2068,  0.5512,  0.1931],\n",
      "        [ 0.7843,  0.9264,  1.9125]])\n",
      "tensor([-1.4225,  1.4775,  2.1055])\n",
      "tensor([-1.4626,  3.6231])\n",
      "tensor(2.1605)\n"
     ]
    }
   ],
   "source": [
    "# reduction operation in tensor\n",
    "a = torch.randn((2,3))\n",
    "print(a)\n",
    "# contoh \n",
    "# tensor([[-2.2068,  0.5512,  0.1931],\n",
    "#        [ 0.7843,  0.9264,  1.9125]]) \n",
    "s1 = torch.sum(a, dim=0) # sum dimensi ke 0 (-2.068+0.7843) dan seterusnya\n",
    "print(s1)\n",
    "s1 = torch.sum(a, dim=1)  # sum dimensi ke 1 (-2.068+0.5512+0.1931) dan 0.7843 +  0.9264 + 1.9125\n",
    "print(s1)\n",
    "s1 = torch.sum(a)\n",
    "print(s1) # klo tanpa dimensi sum semua angka\n"
   ]
  },
  {
   "cell_type": "code",
   "execution_count": 11,
   "metadata": {},
   "outputs": [
    {
     "name": "stdout",
     "output_type": "stream",
     "text": [
      "[-10, 10, 0]\n"
     ]
    }
   ],
   "source": [
    "import heapq\n",
    "\n",
    "heap = []\n",
    "heapq.heappush(heap, 10)\n",
    "heapq.heappush(heap, -10)\n",
    "heapq.heappush(heap, 0)\n",
    "\n",
    "print(heap)  # Output: [-10, 10, 0]\n"
   ]
  },
  {
   "cell_type": "code",
   "execution_count": null,
   "metadata": {},
   "outputs": [],
   "source": []
  }
 ],
 "metadata": {
  "kernelspec": {
   "display_name": "env",
   "language": "python",
   "name": "env"
  },
  "language_info": {
   "codemirror_mode": {
    "name": "ipython",
    "version": 3
   },
   "file_extension": ".py",
   "mimetype": "text/x-python",
   "name": "python",
   "nbconvert_exporter": "python",
   "pygments_lexer": "ipython3",
   "version": "3.11.9"
  }
 },
 "nbformat": 4,
 "nbformat_minor": 2
}
